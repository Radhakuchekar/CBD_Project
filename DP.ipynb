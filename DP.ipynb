{
  "nbformat": 4,
  "nbformat_minor": 0,
  "metadata": {
    "colab": {
      "provenance": [],
      "authorship_tag": "ABX9TyPP+yuWyJtGYqrj61O9t+B7",
      "include_colab_link": true
    },
    "kernelspec": {
      "name": "python3",
      "display_name": "Python 3"
    },
    "language_info": {
      "name": "python"
    }
  },
  "cells": [
    {
      "cell_type": "markdown",
      "metadata": {
        "id": "view-in-github",
        "colab_type": "text"
      },
      "source": [
        "<a href=\"https://colab.research.google.com/github/Radhakuchekar/CBD_Project/blob/main/DP.ipynb\" target=\"_parent\"><img src=\"https://colab.research.google.com/assets/colab-badge.svg\" alt=\"Open In Colab\"/></a>"
      ]
    },
    {
      "cell_type": "code",
      "execution_count": null,
      "metadata": {
        "colab": {
          "base_uri": "https://localhost:8080/"
        },
        "id": "gyuZJxE0ASJx",
        "outputId": "cc50e411-0feb-41b0-d3d6-887922d70acd"
      },
      "outputs": [
        {
          "output_type": "stream",
          "name": "stdout",
          "text": [
            "true\n"
          ]
        }
      ],
      "source": [
        "if 6:\n",
        "  print(\"true\")\n",
        "else:\n",
        "  print(\"false\")"
      ]
    },
    {
      "cell_type": "code",
      "source": [
        "def subset_sum(arr, S):\n",
        "    # Initialize a 1D DP array of size S+1 (target sum from 0 to S)\n",
        "    dp = [False] * (S + 1)\n",
        "    dp[0] = True  # Base case: sum 0 can always be achieved with an empty subset\n",
        "\n",
        "    # Iterate through all elements in the array\n",
        "    for num in arr: #3\n",
        "        # Update the DP array from right to left\n",
        "        for j in range(S, num - 1, -1): #9\n",
        "\n",
        "            if dp[j - num]:\n",
        "                print(j , num, j - num)\n",
        "                dp[j] = True\n",
        "\n",
        "    # The answer is whether dp[S] is True (target sum is achievable)\n",
        "    print(dp)\n",
        "    return dp[S]\n",
        "\n",
        "# Example Usage\n",
        "arr = [3, 7, 1]\n",
        "S = 4\n",
        "print(subset_sum(arr, S))  # Output: True (because 4 + 5 = 9)\n"
      ],
      "metadata": {
        "colab": {
          "base_uri": "https://localhost:8080/"
        },
        "id": "V5ek4XsQAXwL",
        "outputId": "4dfa3a3d-438f-4165-b276-14deafce8522"
      },
      "execution_count": null,
      "outputs": [
        {
          "output_type": "stream",
          "name": "stdout",
          "text": [
            "3 3 0\n",
            "4 1 3\n",
            "1 1 0\n",
            "[True, True, False, True, True]\n",
            "True\n"
          ]
        }
      ]
    },
    {
      "cell_type": "code",
      "source": [
        "for i in range(11, 10):\n",
        "  print(\"hey\")"
      ],
      "metadata": {
        "id": "d_12AKHCAaug"
      },
      "execution_count": null,
      "outputs": []
    },
    {
      "cell_type": "code",
      "source": [
        "dp"
      ],
      "metadata": {
        "colab": {
          "base_uri": "https://localhost:8080/",
          "height": 141
        },
        "id": "Ihs38UUtEWJH",
        "outputId": "57b66862-9a9b-47ce-e8d2-83fb1891908f"
      },
      "execution_count": null,
      "outputs": [
        {
          "output_type": "error",
          "ename": "NameError",
          "evalue": "name 'dp' is not defined",
          "traceback": [
            "\u001b[0;31m---------------------------------------------------------------------------\u001b[0m",
            "\u001b[0;31mNameError\u001b[0m                                 Traceback (most recent call last)",
            "\u001b[0;32m<ipython-input-10-720ab9d466f3>\u001b[0m in \u001b[0;36m<cell line: 0>\u001b[0;34m()\u001b[0m\n\u001b[0;32m----> 1\u001b[0;31m \u001b[0mdp\u001b[0m\u001b[0;34m\u001b[0m\u001b[0;34m\u001b[0m\u001b[0m\n\u001b[0m",
            "\u001b[0;31mNameError\u001b[0m: name 'dp' is not defined"
          ]
        }
      ]
    },
    {
      "cell_type": "code",
      "source": [
        "arr = [3,7,1]\n",
        "n = 3\n",
        "s = 4\n",
        "\n"
      ],
      "metadata": {
        "id": "bQsHqFOLEpIZ"
      },
      "execution_count": null,
      "outputs": []
    },
    {
      "cell_type": "code",
      "source": [
        "dp =[[False] * (s+1) for a in range(0, n+1) ]"
      ],
      "metadata": {
        "id": "Z2vl7o3oMFFc"
      },
      "execution_count": null,
      "outputs": []
    },
    {
      "cell_type": "code",
      "source": [
        "dp"
      ],
      "metadata": {
        "colab": {
          "base_uri": "https://localhost:8080/"
        },
        "id": "7q6Dr9B0MUe0",
        "outputId": "b5e21e77-892b-4767-c71b-99da0220d594"
      },
      "execution_count": null,
      "outputs": [
        {
          "output_type": "execute_result",
          "data": {
            "text/plain": [
              "[[False, False, False, False, False],\n",
              " [False, False, False, False, False],\n",
              " [False, False, False, False, False],\n",
              " [False, False, False, False, False]]"
            ]
          },
          "metadata": {},
          "execution_count": 67
        }
      ]
    },
    {
      "cell_type": "code",
      "source": [
        "for i in range(0, s+1):\n",
        "  dp[0][i] = False\n",
        "for i in range(0, n+1):\n",
        "  dp[i][0] = True\n",
        "dp"
      ],
      "metadata": {
        "colab": {
          "base_uri": "https://localhost:8080/"
        },
        "id": "l_aoYDY7MhXl",
        "outputId": "98eaa17f-b8dc-45f9-87c7-80acb0972527"
      },
      "execution_count": null,
      "outputs": [
        {
          "output_type": "execute_result",
          "data": {
            "text/plain": [
              "[[True, False, False, False, False],\n",
              " [True, False, False, False, False],\n",
              " [True, False, False, False, False],\n",
              " [True, False, False, False, False]]"
            ]
          },
          "metadata": {},
          "execution_count": 68
        }
      ]
    },
    {
      "cell_type": "code",
      "source": [
        "for i in range(1, n+1):\n",
        "  for j in range(1, s+1):\n",
        "    dp[i][j] = dp[i-1][j]\n",
        "    if arr[i-1] <= j:\n",
        "      dp[i][j] = dp[i][j] or dp[i-1][j - arr[i-1]]"
      ],
      "metadata": {
        "id": "Xl05t1xVM3VE"
      },
      "execution_count": null,
      "outputs": []
    },
    {
      "cell_type": "code",
      "source": [
        "dp"
      ],
      "metadata": {
        "colab": {
          "base_uri": "https://localhost:8080/"
        },
        "id": "GXgs1czKM34l",
        "outputId": "2b93a873-f5e2-40c5-a581-314466b35d65"
      },
      "execution_count": null,
      "outputs": [
        {
          "output_type": "execute_result",
          "data": {
            "text/plain": [
              "[[True, False, False, False, False],\n",
              " [True, False, False, True, False],\n",
              " [True, False, False, True, False],\n",
              " [True, True, False, True, True]]"
            ]
          },
          "metadata": {},
          "execution_count": 76
        }
      ]
    },
    {
      "cell_type": "code",
      "source": [
        "def subset_sum(arr, S):\n",
        "    n = len(arr)\n",
        "\n",
        "    # DP table initialization\n",
        "    dp = [[False] * (S + 1) for _ in range(n + 1)]\n",
        "\n",
        "    # Base case: sum 0 can always be achieved with an empty subset\n",
        "    for i in range(n + 1):\n",
        "        dp[i][0] = True\n",
        "\n",
        "    # Fill the DP table\n",
        "    for i in range(1, n + 1):\n",
        "        for j in range(1, S + 1):\n",
        "            # If we don't include the current element\n",
        "            dp[i][j] = dp[i - 1][j]\n",
        "            # If we include the current element (arr[i-1])\n",
        "            if j >= arr[i - 1]:\n",
        "                dp[i][j] = dp[i][j] or dp[i - 1][j - arr[i - 1]]\n",
        "\n",
        "    # The answer is in dp[n][S]\n",
        "    print(dp)\n",
        "    return dp[n][S]\n",
        "\n",
        "# Example Usage\n",
        "arr = [3, 7, 1]\n",
        "S = 4\n",
        "print(subset_sum(arr, S))  # Output: True (because 4 + 5 = 9)\n"
      ],
      "metadata": {
        "colab": {
          "base_uri": "https://localhost:8080/"
        },
        "id": "Ft-5dNK1ObzQ",
        "outputId": "efd2c890-5c71-43a6-859a-f9b2edc1c579"
      },
      "execution_count": null,
      "outputs": [
        {
          "output_type": "stream",
          "name": "stdout",
          "text": [
            "[[True, False, False, False, False], [True, False, False, True, False], [True, False, False, True, False], [True, True, False, True, True]]\n",
            "True\n"
          ]
        }
      ]
    },
    {
      "cell_type": "code",
      "source": [
        "arr = [3, 7, 1]\n",
        "s = 4"
      ],
      "metadata": {
        "id": "HFXx0OhOR-T4"
      },
      "execution_count": null,
      "outputs": []
    },
    {
      "cell_type": "code",
      "source": [
        "dp = [False] *(s+1)"
      ],
      "metadata": {
        "id": "S4QqUaACTZok"
      },
      "execution_count": null,
      "outputs": []
    },
    {
      "cell_type": "code",
      "source": [
        "dp[0] = True\n",
        "dp"
      ],
      "metadata": {
        "colab": {
          "base_uri": "https://localhost:8080/"
        },
        "id": "wMEqP8AGTgDf",
        "outputId": "23a4e8d8-9c8d-4f56-ab36-689c01209f08"
      },
      "execution_count": null,
      "outputs": [
        {
          "output_type": "execute_result",
          "data": {
            "text/plain": [
              "[True, False, False, False, False]"
            ]
          },
          "metadata": {},
          "execution_count": 81
        }
      ]
    },
    {
      "cell_type": "code",
      "source": [
        "for num in arr:\n",
        "  for j  in range(S,num-1, -1):\n",
        "    if dp[j-num]:\n",
        "      dp[j] = True\n",
        "print(dp)"
      ],
      "metadata": {
        "colab": {
          "base_uri": "https://localhost:8080/"
        },
        "id": "Tf02GvcfTgf3",
        "outputId": "4eabf8ea-f2dd-4f7d-add1-10b7490c9d88"
      },
      "execution_count": null,
      "outputs": [
        {
          "output_type": "stream",
          "name": "stdout",
          "text": [
            "[True, True, False, True, True]\n"
          ]
        }
      ]
    },
    {
      "cell_type": "code",
      "source": [
        "dp"
      ],
      "metadata": {
        "colab": {
          "base_uri": "https://localhost:8080/"
        },
        "id": "MD8S_jYgT0dv",
        "outputId": "d5403d39-a9f6-491a-d179-321b38ed4878"
      },
      "execution_count": null,
      "outputs": [
        {
          "output_type": "execute_result",
          "data": {
            "text/plain": [
              "[True, False, False, False, False]"
            ]
          },
          "metadata": {},
          "execution_count": 91
        }
      ]
    },
    {
      "cell_type": "code",
      "source": [],
      "metadata": {
        "id": "4MkEnQ8uT1GU"
      },
      "execution_count": null,
      "outputs": []
    }
  ]
}