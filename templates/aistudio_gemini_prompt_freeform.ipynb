{
  "cells": [
    {
      "cell_type": "markdown",
      "metadata": {
        "id": "Tce3stUlHN0L"
      },
      "source": [
        "##### Copyright 2023 Google LLC"
      ]
    },
    {
      "cell_type": "code",
      "execution_count": null,
      "metadata": {
        "cellView": "form",
        "id": "tuOe1ymfHZPu"
      },
      "outputs": [],
      "source": [
        "# @title Licensed under the Apache License, Version 2.0 (the \"License\");\n",
        "# you may not use this file except in compliance with the License.\n",
        "# You may obtain a copy of the License at\n",
        "#\n",
        "# https://www.apache.org/licenses/LICENSE-2.0\n",
        "#\n",
        "# Unless required by applicable law or agreed to in writing, software\n",
        "# distributed under the License is distributed on an \"AS IS\" BASIS,\n",
        "# WITHOUT WARRANTIES OR CONDITIONS OF ANY KIND, either express or implied.\n",
        "# See the License for the specific language governing permissions and\n",
        "# limitations under the License."
      ]
    },
    {
      "cell_type": "markdown",
      "metadata": {
        "id": "FKwyTRdwB8aW"
      },
      "source": [
        "## Setup"
      ]
    },
    {
      "cell_type": "code",
      "execution_count": 1,
      "metadata": {
        "id": "RXInneX6xx7c"
      },
      "outputs": [],
      "source": [
        "!pip install -U -q \"google-generativeai>=0.8.2\""
      ]
    },
    {
      "cell_type": "code",
      "execution_count": 6,
      "metadata": {
        "id": "kWIuwKG2_oWE"
      },
      "outputs": [],
      "source": [
        "# import necessary modules.\n",
        "import base64\n",
        "import copy\n",
        "import json\n",
        "import pathlib\n",
        "import requests\n",
        "\n",
        "\n",
        "import PIL.Image\n",
        "import IPython.display\n",
        "from IPython.display import Markdown\n",
        "\n",
        "try:\n",
        "    # The SDK will automatically read it from the GOOGLE_API_KEY environment variable.\n",
        "    # In Colab get the key from Colab-secrets (\"🔑\" in the left panel).\n",
        "    import os\n",
        "    from google.colab import userdata\n",
        "\n",
        "    os.environ[\"GOOGLE_API_KEY\"] = userdata.get(\"GOOGLE_API_KEY\")\n",
        "except ImportError:\n",
        "    pass\n",
        "\n",
        "import google.generativeai as genai\n",
        "\n",
        "# Parse the arguments\n",
        "\n",
        "model = 'gemini-1.5-flash-8b' # @param {isTemplate: true}\n",
        "contents_b64 = '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' # @param {isTemplate: true}\n",
        "generation_config_b64 = 'eyJ0ZW1wZXJhdHVyZSI6MSwidG9wX3AiOjAuOTUsInRvcF9rIjo0MCwibWF4X291dHB1dF90b2tlbnMiOjgxOTJ9' # @param {isTemplate: true}\n",
        "safety_settings_b64 = \"e30=\"  # @param {isTemplate: true}\n",
        "\n",
        "gais_contents = json.loads(base64.b64decode(contents_b64))\n",
        "\n",
        "generation_config = json.loads(base64.b64decode(generation_config_b64))\n",
        "safety_settings = json.loads(base64.b64decode(safety_settings_b64))\n",
        "\n",
        "stream = False\n",
        "\n",
        "# Convert and upload the files\n",
        "\n",
        "tempfiles = pathlib.Path(f\"tempfiles\")\n",
        "tempfiles.mkdir(parents=True, exist_ok=True)\n",
        "\n",
        "\n",
        "drive = None\n",
        "def upload_file_data(file_data, index):\n",
        "    \"\"\"Upload files to the Files API.\n",
        "\n",
        "    For each file, Google AI Studio either sent:\n",
        "    - a Google Drive ID,\n",
        "    - a URL,\n",
        "    - a file path, or\n",
        "    - The raw bytes (`inline_data`).\n",
        "\n",
        "    The API only understands `inline_data` or it's Files API.\n",
        "    This code, uploads files to the files API where the API can access them.\n",
        "    \"\"\"\n",
        "\n",
        "    mime_type = file_data[\"mime_type\"]\n",
        "    if drive_id := file_data.pop(\"drive_id\", None):\n",
        "        if drive is None:\n",
        "          from google.colab import drive\n",
        "          drive.mount(\"/gdrive\")\n",
        "\n",
        "        path = next(\n",
        "            pathlib.Path(f\"/gdrive/.shortcut-targets-by-id/{drive_id}\").glob(\"*\")\n",
        "        )\n",
        "        print(\"Uploading:\", str(path))\n",
        "        file_info = genai.upload_file(path=path, mime_type=mime_type)\n",
        "        file_data[\"file_uri\"] = file_info.uri\n",
        "        return\n",
        "\n",
        "    if url := file_data.pop(\"url\", None):\n",
        "        response = requests.get(url)\n",
        "        data = response.content\n",
        "        name = url.split(\"/\")[-1]\n",
        "        path = tempfiles / str(index)\n",
        "        path.write_bytes(data)\n",
        "        print(\"Uploading:\", url)\n",
        "        file_info = genai.upload_file(path, display_name=name, mime_type=mime_type)\n",
        "        file_data[\"file_uri\"] = file_info.uri\n",
        "        return\n",
        "\n",
        "    if name := file_data.get(\"filename\", None):\n",
        "        if not pathlib.Path(name).exists():\n",
        "            raise IOError(\n",
        "                f\"local file: `{name}` does not exist. You can upload files \"\n",
        "                'to Colab using the file manager (\"📁 Files\" in the left '\n",
        "                \"toolbar)\"\n",
        "            )\n",
        "        file_info = genai.upload_file(path, display_name=name, mime_type=mime_type)\n",
        "        file_data[\"file_uri\"] = file_info.uri\n",
        "        return\n",
        "\n",
        "    if \"inline_data\" in file_data:\n",
        "        return\n",
        "\n",
        "    raise ValueError(\"Either `drive_id`, `url` or `inline_data` must be provided.\")\n",
        "\n",
        "\n",
        "contents = [{\n",
        "        \"role\": \"user\",\n",
        "        \"parts\": [\n",
        "            {\n",
        "                \"text\": \"generate python function by following standard coding practices for is NotNumeric check on value. result should be only python function code\"\n",
        "            }\n",
        "        ]\n",
        "    }]"
      ]
    },
    {
      "cell_type": "markdown",
      "metadata": {
        "id": "E7zAD69vE92b"
      },
      "source": [
        "## Call `generate_content`"
      ]
    },
    {
      "cell_type": "code",
      "execution_count": 7,
      "metadata": {
        "id": "LB2LxPmAB95V",
        "colab": {
          "base_uri": "https://localhost:8080/",
          "height": 434
        },
        "outputId": "f5364d32-92d2-4f66-cd41-592307c78000"
      },
      "outputs": [
        {
          "output_type": "display_data",
          "data": {
            "text/plain": [
              "<IPython.core.display.Markdown object>"
            ],
            "text/markdown": "```python\ndef is_not_numeric(value):\n    \"\"\"\n    Checks if a value is not numeric.\n\n    Args:\n        value: The value to check.\n\n    Returns:\n        True if the value is not numeric, False otherwise.  Returns False for None.\n        Raises TypeError if input is not a primitive type.\n    \"\"\"\n    \n    if value is None:\n        return False\n    \n    #Check if the input is a primitive type\n    if not isinstance(value, (int, float, str, bool)):\n        raise TypeError(\"Input value must be a primitive type (int, float, str, bool).\")\n        \n    try:\n        float(value)  # Attempt to convert to float; this will raise ValueError for non-numeric strings\n        return False\n    except ValueError:\n        return True\n```\n"
          },
          "metadata": {}
        }
      ],
      "source": [
        "from IPython.display import display\n",
        "from IPython.display import Markdown\n",
        "\n",
        "# Call the model and print the response.\n",
        "gemini = genai.GenerativeModel(model_name=model)\n",
        "\n",
        "response = gemini.generate_content(\n",
        "    contents,\n",
        "    generation_config=generation_config,\n",
        "    safety_settings=safety_settings,\n",
        "    stream=stream,\n",
        ")\n",
        "\n",
        "display(Markdown(response.text))"
      ]
    },
    {
      "cell_type": "markdown",
      "metadata": {
        "id": "9c9d345e9868"
      },
      "source": [
        "<table class=\"tfo-notebook-buttons\" align=\"left\">\n",
        "  <td>\n",
        "    <a target=\"_blank\" href=\"https://ai.google.dev/gemini-api/docs\"><img src=\"https://ai.google.dev/static/site-assets/images/docs/notebook-site-button.png\" height=\"32\" width=\"32\" />Docs on ai.google.dev</a>\n",
        "  </td>\n",
        "  <td>\n",
        "    <a target=\"_blank\" href=\"https://github.com/google-gemini/cookbook/blob/main/quickstarts\"><img src=\"https://www.tensorflow.org/images/GitHub-Mark-32px.png\" />More notebooks in the Cookbook</a>\n",
        "  </td>\n",
        "</table>"
      ]
    },
    {
      "cell_type": "markdown",
      "metadata": {
        "id": "F91AeeGO1ncU"
      },
      "source": [
        "## [optional] Show the conversation\n",
        "\n",
        "This section displays the conversation received from Google AI Studio."
      ]
    },
    {
      "cell_type": "code",
      "execution_count": null,
      "metadata": {
        "id": "yoL3p3KPylFW"
      },
      "outputs": [],
      "source": [
        "# @title Show the conversation, in colab.\n",
        "import mimetypes\n",
        "\n",
        "def show_file(file_data):\n",
        "    mime_type = file_data[\"mime_type\"]\n",
        "\n",
        "    if drive_id := file_data.get(\"drive_id\", None):\n",
        "        path = next(\n",
        "            pathlib.Path(f\"/gdrive/.shortcut-targets-by-id/{drive_id}\").glob(\"*\")\n",
        "        )\n",
        "        name = path\n",
        "        # data = path.read_bytes()\n",
        "        kwargs = {\"filename\": path}\n",
        "    elif url := file_data.get(\"url\", None):\n",
        "        name = url\n",
        "        kwargs = {\"url\": url}\n",
        "        # response = requests.get(url)\n",
        "        # data = response.content\n",
        "    elif data := file_data.get(\"inline_data\", None):\n",
        "        name = None\n",
        "        kwargs = {\"data\": data}\n",
        "    elif name := file_data.get(\"filename\", None):\n",
        "        if not pathlib.Path(name).exists():\n",
        "            raise IOError(\n",
        "                f\"local file: `{name}` does not exist. You can upload files to \"\n",
        "                'Colab using the file manager (\"📁 Files\"in the left toolbar)'\n",
        "            )\n",
        "    else:\n",
        "        raise ValueError(\"Either `drive_id`, `url` or `inline_data` must be provided.\")\n",
        "\n",
        "        print(f\"File:\\n    name: {name}\\n    mime_type: {mime_type}\\n\")\n",
        "        return\n",
        "\n",
        "    format = mimetypes.guess_extension(mime_type).strip(\".\")\n",
        "    if mime_type.startswith(\"image/\"):\n",
        "        image = IPython.display.Image(**kwargs, width=256)\n",
        "        IPython.display.display(image)\n",
        "        print()\n",
        "        return\n",
        "\n",
        "    if mime_type.startswith(\"audio/\"):\n",
        "        if len(data) < 2**12:\n",
        "            audio = IPython.display.Audio(**kwargs)\n",
        "            IPython.display.display(audio)\n",
        "            print()\n",
        "            return\n",
        "\n",
        "    if mime_type.startswith(\"video/\"):\n",
        "        if len(data) < 2**12:\n",
        "            audio = IPython.display.Video(**kwargs, mimetype=mime_type)\n",
        "            IPython.display.display(audio)\n",
        "            print()\n",
        "            return\n",
        "\n",
        "    print(f\"File:\\n    name: {name}\\n    mime_type: {mime_type}\\n\")\n",
        "\n",
        "\n",
        "for content in gais_contents:\n",
        "    if role := content.get(\"role\", None):\n",
        "        print(\"Role:\", role, \"\\n\")\n",
        "\n",
        "    for n, part in enumerate(content[\"parts\"]):\n",
        "        if text := part.get(\"text\", None):\n",
        "            print(text, \"\\n\")\n",
        "\n",
        "        elif file_data := part.get(\"file_data\", None):\n",
        "            show_file(file_data)\n",
        "\n",
        "    print(\"-\" * 80, \"\\n\")"
      ]
    }
  ],
  "metadata": {
    "colab": {
      "collapsed_sections": [
        "Tce3stUlHN0L"
      ],
      "name": "aistudio_gemini_prompt_freeform.ipynb",
      "toc_visible": true,
      "provenance": []
    },
    "kernelspec": {
      "display_name": "Python 3",
      "name": "python3"
    }
  },
  "nbformat": 4,
  "nbformat_minor": 0
}